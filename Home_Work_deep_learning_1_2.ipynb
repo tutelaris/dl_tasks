{
 "cells": [
  {
   "cell_type": "code",
   "execution_count": 1,
   "metadata": {},
   "outputs": [],
   "source": [
    "import xml.etree.ElementTree as ET\n",
    "import pandas as pd\n",
    "import numpy as np\n",
    "from sklearn.feature_extraction.text import TfidfVectorizer\n",
    "import re\n",
    "from sklearn.metrics import accuracy_score"
   ]
  },
  {
   "cell_type": "code",
   "execution_count": 2,
   "metadata": {},
   "outputs": [],
   "source": [
    "class XML2DataFrame:\n",
    "    def __init__(self, xml_path):\n",
    "        xml_data = open(xml_path)\n",
    "        self.root = ET.XML(xml_data.read())[1]\n",
    "\n",
    "    def parse_root(self, root):\n",
    "        return [self.parse_element(child) for child in iter(root)]\n",
    "\n",
    "    def parse_element(self, element, parsed=None):\n",
    "        if parsed is None:\n",
    "            parsed = dict()\n",
    "        for key in element.keys():\n",
    "            parsed[key] = element.attrib.get(key)\n",
    "        if element.text:\n",
    "            parsed[element.attrib[\"name\"]] = None if element.text == \"NULL\" else element.text\n",
    "        for child in list(element):\n",
    "            self.parse_element(child, parsed)\n",
    "        return parsed\n",
    "\n",
    "    def process_data(self):\n",
    "        structure_data = self.parse_root(self.root)\n",
    "        return pd.DataFrame(structure_data)"
   ]
  },
  {
   "cell_type": "code",
   "execution_count": 3,
   "metadata": {},
   "outputs": [],
   "source": [
    "def from_sentiment_vectors_to_numbers(labels):\n",
    "    return [list(set(label[label!=0]))[0] if len(label[label!=0]) > 0 else 0 for label in labels]"
   ]
  },
  {
   "cell_type": "code",
   "execution_count": 4,
   "metadata": {},
   "outputs": [],
   "source": [
    "def clean_text(text):\n",
    "    cleaning_regex = r'((http|https)://(.+?)(\\s|$))|(RT @(.+?) )|(@(.+?)\\s)|\\n|\\t|&amp'\n",
    "    return re.sub(cleaning_regex, ' ', text.lower()).strip()"
   ]
  },
  {
   "cell_type": "markdown",
   "metadata": {},
   "source": [
    "<h2>Data preparation</h2>"
   ]
  },
  {
   "cell_type": "markdown",
   "metadata": {},
   "source": [
    "<h3>TKK data</h3>"
   ]
  },
  {
   "cell_type": "markdown",
   "metadata": {},
   "source": [
    "<h4>Train</h4>"
   ]
  },
  {
   "cell_type": "code",
   "execution_count": 175,
   "metadata": {},
   "outputs": [],
   "source": [
    "train_tkk = XML2DataFrame(\"data/tkk_train_2016.xml\").process_data().fillna(0)"
   ]
  },
  {
   "cell_type": "code",
   "execution_count": 176,
   "metadata": {},
   "outputs": [],
   "source": [
    "train_texts_tkk = train_tkk[\"text\"].values\n",
    "train_labels_tkk = np.array(train_tkk[[\"beeline\", \"komstar\", \"mts\", \"rostelecom\", \"skylink\", \"tele2\"]].values).astype(int)"
   ]
  },
  {
   "cell_type": "code",
   "execution_count": 177,
   "metadata": {},
   "outputs": [],
   "source": [
    "train_labels_tkk = from_sentiment_vectors_to_numbers(train_labels_tkk)"
   ]
  },
  {
   "cell_type": "markdown",
   "metadata": {},
   "source": [
    "<h4>Test</h4>"
   ]
  },
  {
   "cell_type": "code",
   "execution_count": 178,
   "metadata": {},
   "outputs": [],
   "source": [
    "test_tkk = XML2DataFrame(\"data/tkk_test_etalon.xml\").process_data().fillna(0)"
   ]
  },
  {
   "cell_type": "code",
   "execution_count": 179,
   "metadata": {},
   "outputs": [],
   "source": [
    "test_texts_tkk = test_tkk[\"text\"].values\n",
    "test_labels_tkk = np.array(test_tkk[[\"beeline\", \"komstar\", \"mts\", \"rostelecom\", \"skylink\", \"tele2\"]].values).astype(int)"
   ]
  },
  {
   "cell_type": "code",
   "execution_count": 180,
   "metadata": {},
   "outputs": [],
   "source": [
    "test_labels_tkk = from_sentiment_vectors_to_numbers(test_labels_tkk)"
   ]
  },
  {
   "cell_type": "markdown",
   "metadata": {},
   "source": [
    "<h3>Bank data</h3>"
   ]
  },
  {
   "cell_type": "markdown",
   "metadata": {},
   "source": [
    "<h4>Train</h4>"
   ]
  },
  {
   "cell_type": "code",
   "execution_count": 181,
   "metadata": {},
   "outputs": [],
   "source": [
    "train_bank = XML2DataFrame(\"data/bank_train_2016.xml\").process_data().fillna(0)"
   ]
  },
  {
   "cell_type": "code",
   "execution_count": 182,
   "metadata": {},
   "outputs": [],
   "source": [
    "train_texts_bank = train_bank[\"text\"].values\n",
    "train_labels_bank = np.array(train_bank[[\"alfabank\", \"bankmoskvy\", \"gazprom\", \"raiffeisen\", \"rshb\", \"sberbank\", \"uralsib\", \"vtb\"]].values).astype(int)"
   ]
  },
  {
   "cell_type": "code",
   "execution_count": 183,
   "metadata": {},
   "outputs": [],
   "source": [
    "train_labels_bank = from_sentiment_vectors_to_numbers(train_labels_bank)"
   ]
  },
  {
   "cell_type": "markdown",
   "metadata": {},
   "source": [
    "<h4>Test</h4>"
   ]
  },
  {
   "cell_type": "code",
   "execution_count": 184,
   "metadata": {},
   "outputs": [],
   "source": [
    "test_bank = XML2DataFrame(\"data/banks_test_etalon.xml\").process_data().fillna(0)"
   ]
  },
  {
   "cell_type": "code",
   "execution_count": 185,
   "metadata": {},
   "outputs": [],
   "source": [
    "test_texts_bank = test_bank[\"text\"].values\n",
    "test_labels_bank = np.array(test_bank[[\"alfabank\", \"bankmoskvy\", \"gazprom\", \"raiffeisen\", \"rshb\", \"sberbank\", \"uralsib\", \"vtb\"]].values).astype(int)"
   ]
  },
  {
   "cell_type": "code",
   "execution_count": 186,
   "metadata": {},
   "outputs": [],
   "source": [
    "test_labels_bank = from_sentiment_vectors_to_numbers(test_labels_bank)"
   ]
  },
  {
   "cell_type": "markdown",
   "metadata": {},
   "source": [
    "<h3>Join and clean data</h3>"
   ]
  },
  {
   "cell_type": "markdown",
   "metadata": {},
   "source": [
    "<h4>Train</h4>"
   ]
  },
  {
   "cell_type": "code",
   "execution_count": 187,
   "metadata": {},
   "outputs": [],
   "source": [
    "train_texts = [clean_text(text) for text in np.concatenate((train_texts_tkk, train_texts_bank),axis=0)]\n",
    "train_labels = train_labels_tkk + train_labels_bank"
   ]
  },
  {
   "cell_type": "markdown",
   "metadata": {},
   "source": [
    "<h4>Test</h4>"
   ]
  },
  {
   "cell_type": "code",
   "execution_count": 188,
   "metadata": {},
   "outputs": [],
   "source": [
    "test_texts = [clean_text(text) for text in np.concatenate((test_texts_tkk, test_texts_bank), axis=0)]\n",
    "test_labels = test_labels_tkk + test_labels_bank"
   ]
  },
  {
   "cell_type": "markdown",
   "metadata": {},
   "source": [
    "<h2>Task1: TF-IDF + LogisticRegression</h2>"
   ]
  },
  {
   "cell_type": "markdown",
   "metadata": {},
   "source": [
    "<h3>Training</h3>"
   ]
  },
  {
   "cell_type": "code",
   "execution_count": 20,
   "metadata": {},
   "outputs": [],
   "source": [
    "vectorizer = TfidfVectorizer(min_df=1)"
   ]
  },
  {
   "cell_type": "code",
   "execution_count": 21,
   "metadata": {},
   "outputs": [],
   "source": [
    "train_tfidf_texts = vectorizer.fit_transform(train_texts)"
   ]
  },
  {
   "cell_type": "code",
   "execution_count": 22,
   "metadata": {},
   "outputs": [
    {
     "name": "stderr",
     "output_type": "stream",
     "text": [
      "/home/tutelaris/anaconda3/lib/python3.6/site-packages/sklearn/linear_model/logistic.py:757: ConvergenceWarning: lbfgs failed to converge. Increase the number of iterations.\n",
      "  \"of iterations.\", ConvergenceWarning)\n"
     ]
    },
    {
     "data": {
      "text/plain": [
       "LogisticRegression(C=1.0, class_weight=None, dual=False, fit_intercept=True,\n",
       "          intercept_scaling=1, max_iter=100, multi_class='multinomial',\n",
       "          n_jobs=None, penalty='l2', random_state=None, solver='lbfgs',\n",
       "          tol=0.0001, verbose=0, warm_start=False)"
      ]
     },
     "execution_count": 22,
     "metadata": {},
     "output_type": "execute_result"
    }
   ],
   "source": [
    "from sklearn.linear_model import LogisticRegression\n",
    "clf = LogisticRegression(solver='lbfgs', multi_class='multinomial')\n",
    "clf.fit(train_tfidf_texts, train_labels)"
   ]
  },
  {
   "cell_type": "markdown",
   "metadata": {},
   "source": [
    "<h4>Evaluation</h4>"
   ]
  },
  {
   "cell_type": "code",
   "execution_count": 23,
   "metadata": {},
   "outputs": [],
   "source": [
    "test_tfidf_texts = vectorizer.transform(test_texts)"
   ]
  },
  {
   "cell_type": "code",
   "execution_count": 24,
   "metadata": {},
   "outputs": [],
   "source": [
    "predicted_labels = clf.predict(test_tfidf_texts)"
   ]
  },
  {
   "cell_type": "code",
   "execution_count": 25,
   "metadata": {},
   "outputs": [
    {
     "data": {
      "text/plain": [
       "0.7111510791366906"
      ]
     },
     "execution_count": 25,
     "metadata": {},
     "output_type": "execute_result"
    }
   ],
   "source": [
    "accuracy_score(test_labels, predicted_labels)"
   ]
  },
  {
   "cell_type": "markdown",
   "metadata": {},
   "source": [
    "<h2>Task 2: Word2Vec + CNN</h2>"
   ]
  },
  {
   "cell_type": "code",
   "execution_count": 206,
   "metadata": {},
   "outputs": [],
   "source": [
    "import nltk\n",
    "from nltk.tokenize import RegexpTokenizer\n",
    "from nltk.corpus import stopwords\n",
    "import gensim\n",
    "from pymystem3 import Mystem\n",
    "from keras.preprocessing.text import Tokenizer\n",
    "from keras.preprocessing.sequence import pad_sequences\n",
    "from keras.utils import to_categorical\n",
    "from sklearn.preprocessing import LabelBinarizer"
   ]
  },
  {
   "cell_type": "code",
   "execution_count": 189,
   "metadata": {},
   "outputs": [],
   "source": [
    "EMBEDDING_DIM = 100\n",
    "MAX_SEQUENCE_LENGTH = 50"
   ]
  },
  {
   "cell_type": "code",
   "execution_count": 78,
   "metadata": {},
   "outputs": [
    {
     "name": "stdout",
     "output_type": "stream",
     "text": [
      "[nltk_data] Downloading package stopwords to\n",
      "[nltk_data]     /home/tutelaris/nltk_data...\n",
      "[nltk_data]   Package stopwords is already up-to-date!\n"
     ]
    }
   ],
   "source": [
    "nltk.download('stopwords')\n",
    "stop_words = set(stopwords.words('russian'))"
   ]
  },
  {
   "cell_type": "markdown",
   "metadata": {},
   "source": [
    "<h4>Tokenize and delete stop-words</h4>"
   ]
  },
  {
   "cell_type": "code",
   "execution_count": 190,
   "metadata": {},
   "outputs": [],
   "source": [
    "tknzr = RegexpTokenizer(r'\\w+')"
   ]
  },
  {
   "cell_type": "code",
   "execution_count": 191,
   "metadata": {},
   "outputs": [],
   "source": [
    "tokenized_train_texts = [tknzr.tokenize(text) for text in train_texts]"
   ]
  },
  {
   "cell_type": "code",
   "execution_count": 192,
   "metadata": {},
   "outputs": [],
   "source": [
    "tokenized_train_texts = [[word for word in tokens if word not in stop_words] for tokens in tokenized_train_texts]"
   ]
  },
  {
   "cell_type": "markdown",
   "metadata": {},
   "source": [
    "<h4>Prepare data for CNN</h4>"
   ]
  },
  {
   "cell_type": "code",
   "execution_count": 193,
   "metadata": {},
   "outputs": [],
   "source": [
    "tokenizer = Tokenizer()\n",
    "tokenizer.fit_on_texts(train_texts)\n",
    "train_features_cnn = tokenizer.texts_to_sequences(train_texts)\n",
    "test_features_cnn = tokenizer.texts_to_sequences(test_texts)"
   ]
  },
  {
   "cell_type": "code",
   "execution_count": 194,
   "metadata": {},
   "outputs": [],
   "source": [
    "train_features_cnn = pad_sequences(train_features_cnn, maxlen=MAX_SEQUENCE_LENGTH)\n",
    "test_features_cnn = pad_sequences(test_features_cnn, maxlen=MAX_SEQUENCE_LENGTH)\n",
    "train_labels_cnn = to_categorical(train_labels)\n",
    "test_labels_cnn = to_categorical(test_labels)"
   ]
  },
  {
   "cell_type": "code",
   "execution_count": 207,
   "metadata": {},
   "outputs": [],
   "source": [
    "encoder = LabelBinarizer()\n",
    "encoder.fit(train_labels)\n",
    "train_labels_cnn = encoder.transform(train_labels)\n",
    "test_labels_cnn = encoder.transform(test_labels)"
   ]
  },
  {
   "cell_type": "code",
   "execution_count": 195,
   "metadata": {},
   "outputs": [],
   "source": [
    "train_word_index = tokenizer.word_index"
   ]
  },
  {
   "cell_type": "markdown",
   "metadata": {},
   "source": [
    "<h4>Get embeddings</h4>"
   ]
  },
  {
   "cell_type": "code",
   "execution_count": 196,
   "metadata": {},
   "outputs": [],
   "source": [
    "model = gensim.models.Word2Vec(tokenized_train_texts, size=EMBEDDING_DIM, window=5, min_count=1, workers=4)"
   ]
  },
  {
   "cell_type": "code",
   "execution_count": 268,
   "metadata": {},
   "outputs": [],
   "source": [
    "embedding_matrix = np.zeros((len(train_word_index) + 1, EMBEDDING_DIM))\n",
    "for word, i in tokenizer.word_index.items():\n",
    "    if word in model.wv.vocab:\n",
    "        embedding_vector = model.wv.get_vector(word)\n",
    "        embedding_matrix[i] = embedding_vector"
   ]
  },
  {
   "cell_type": "markdown",
   "metadata": {},
   "source": [
    "<h4>Create CNN</h4>"
   ]
  },
  {
   "cell_type": "code",
   "execution_count": 235,
   "metadata": {},
   "outputs": [],
   "source": [
    "from keras.models import Sequential, Model\n",
    "from keras.layers import Activation, Dense, Dropout\n",
    "from keras.layers import Input, Dense, Flatten, Conv1D, MaxPooling1D, Dropout, Activation, Merge, GlobalMaxPooling1D\n",
    "from keras.callbacks import EarlyStopping"
   ]
  },
  {
   "cell_type": "code",
   "execution_count": 219,
   "metadata": {},
   "outputs": [],
   "source": [
    "early_stopping = EarlyStopping(monitor='val_loss', min_delta=0.01, patience=4, verbose=1)\n",
    "callbacks_list = [early_stopping]"
   ]
  },
  {
   "cell_type": "code",
   "execution_count": 292,
   "metadata": {},
   "outputs": [],
   "source": [
    "def MyConvNet(embeddings, number_of_words, sequence_length, embedding_dim):\n",
    "    convs = []\n",
    "    input_layer = Input(shape=(sequence_length,), dtype='int32')\n",
    "    embedding_layer = Embedding(number_of_words, \n",
    "                                embedding_dim, \n",
    "                                input_length=sequence_length, \n",
    "                                weights=[embeddings], \n",
    "                                trainable=False)(input_layer)\n",
    "\n",
    "    for size, filters_count in [(2, 10), (4, 10), (8, 10), (10, 10)]:\n",
    "        for i in range(filters_count):\n",
    "            conv_layer = Conv1D(filters=1, kernel_size=size, padding='valid', activation='relu')(embedding_layer)\n",
    "            max_pool_layer = GlobalMaxPooling1D()(conv_layer)\n",
    "            convs.append(max_pool_layer)\n",
    "    convs_output = Merge(mode='concat', concat_axis=1)(convs)\n",
    "    dropout1 = Dropout(0.5)(convs_output)\n",
    "    dense1 = Dense(128)(dropout1)\n",
    "    dropout2 = Dropout(0.5)(dense1)\n",
    "    dense2 = Dense(3, activation='sigmoid')(dropout2)\n",
    "    out = Model(input_layer, dense2)\n",
    "    out.compile(loss='binary_crossentropy',\n",
    "                  optimizer='adam',\n",
    "                  metrics=['acc'])\n",
    "    out.summary()\n",
    "    return out"
   ]
  },
  {
   "cell_type": "code",
   "execution_count": 293,
   "metadata": {},
   "outputs": [
    {
     "name": "stdout",
     "output_type": "stream",
     "text": [
      "__________________________________________________________________________________________________\n",
      "Layer (type)                    Output Shape         Param #     Connected to                     \n",
      "==================================================================================================\n",
      "input_38 (InputLayer)           (None, 50)           0                                            \n",
      "__________________________________________________________________________________________________\n",
      "embedding_39 (Embedding)        (None, 50, 100)      2379400     input_38[0][0]                   \n",
      "__________________________________________________________________________________________________\n",
      "conv1d_307 (Conv1D)             (None, 49, 1)        201         embedding_39[0][0]               \n",
      "__________________________________________________________________________________________________\n",
      "conv1d_308 (Conv1D)             (None, 49, 1)        201         embedding_39[0][0]               \n",
      "__________________________________________________________________________________________________\n",
      "conv1d_309 (Conv1D)             (None, 49, 1)        201         embedding_39[0][0]               \n",
      "__________________________________________________________________________________________________\n",
      "conv1d_310 (Conv1D)             (None, 49, 1)        201         embedding_39[0][0]               \n",
      "__________________________________________________________________________________________________\n",
      "conv1d_311 (Conv1D)             (None, 49, 1)        201         embedding_39[0][0]               \n",
      "__________________________________________________________________________________________________\n",
      "conv1d_312 (Conv1D)             (None, 49, 1)        201         embedding_39[0][0]               \n",
      "__________________________________________________________________________________________________\n",
      "conv1d_313 (Conv1D)             (None, 49, 1)        201         embedding_39[0][0]               \n",
      "__________________________________________________________________________________________________\n",
      "conv1d_314 (Conv1D)             (None, 49, 1)        201         embedding_39[0][0]               \n",
      "__________________________________________________________________________________________________\n",
      "conv1d_315 (Conv1D)             (None, 49, 1)        201         embedding_39[0][0]               \n",
      "__________________________________________________________________________________________________\n",
      "conv1d_316 (Conv1D)             (None, 49, 1)        201         embedding_39[0][0]               \n",
      "__________________________________________________________________________________________________\n",
      "conv1d_317 (Conv1D)             (None, 47, 1)        401         embedding_39[0][0]               \n",
      "__________________________________________________________________________________________________\n",
      "conv1d_318 (Conv1D)             (None, 47, 1)        401         embedding_39[0][0]               \n",
      "__________________________________________________________________________________________________\n",
      "conv1d_319 (Conv1D)             (None, 47, 1)        401         embedding_39[0][0]               \n",
      "__________________________________________________________________________________________________\n",
      "conv1d_320 (Conv1D)             (None, 47, 1)        401         embedding_39[0][0]               \n",
      "__________________________________________________________________________________________________\n",
      "conv1d_321 (Conv1D)             (None, 47, 1)        401         embedding_39[0][0]               \n",
      "__________________________________________________________________________________________________\n",
      "conv1d_322 (Conv1D)             (None, 47, 1)        401         embedding_39[0][0]               \n",
      "__________________________________________________________________________________________________\n",
      "conv1d_323 (Conv1D)             (None, 47, 1)        401         embedding_39[0][0]               \n",
      "__________________________________________________________________________________________________\n",
      "conv1d_324 (Conv1D)             (None, 47, 1)        401         embedding_39[0][0]               \n",
      "__________________________________________________________________________________________________\n",
      "conv1d_325 (Conv1D)             (None, 47, 1)        401         embedding_39[0][0]               \n",
      "__________________________________________________________________________________________________\n",
      "conv1d_326 (Conv1D)             (None, 47, 1)        401         embedding_39[0][0]               \n",
      "__________________________________________________________________________________________________\n",
      "conv1d_327 (Conv1D)             (None, 43, 1)        801         embedding_39[0][0]               \n",
      "__________________________________________________________________________________________________\n",
      "conv1d_328 (Conv1D)             (None, 43, 1)        801         embedding_39[0][0]               \n",
      "__________________________________________________________________________________________________\n",
      "conv1d_329 (Conv1D)             (None, 43, 1)        801         embedding_39[0][0]               \n",
      "__________________________________________________________________________________________________\n",
      "conv1d_330 (Conv1D)             (None, 43, 1)        801         embedding_39[0][0]               \n",
      "__________________________________________________________________________________________________\n",
      "conv1d_331 (Conv1D)             (None, 43, 1)        801         embedding_39[0][0]               \n",
      "__________________________________________________________________________________________________\n",
      "conv1d_332 (Conv1D)             (None, 43, 1)        801         embedding_39[0][0]               \n",
      "__________________________________________________________________________________________________\n",
      "conv1d_333 (Conv1D)             (None, 43, 1)        801         embedding_39[0][0]               \n",
      "__________________________________________________________________________________________________\n",
      "conv1d_334 (Conv1D)             (None, 43, 1)        801         embedding_39[0][0]               \n",
      "__________________________________________________________________________________________________\n",
      "conv1d_335 (Conv1D)             (None, 43, 1)        801         embedding_39[0][0]               \n",
      "__________________________________________________________________________________________________\n",
      "conv1d_336 (Conv1D)             (None, 43, 1)        801         embedding_39[0][0]               \n",
      "__________________________________________________________________________________________________\n",
      "conv1d_337 (Conv1D)             (None, 41, 1)        1001        embedding_39[0][0]               \n",
      "__________________________________________________________________________________________________\n",
      "conv1d_338 (Conv1D)             (None, 41, 1)        1001        embedding_39[0][0]               \n",
      "__________________________________________________________________________________________________\n",
      "conv1d_339 (Conv1D)             (None, 41, 1)        1001        embedding_39[0][0]               \n",
      "__________________________________________________________________________________________________\n",
      "conv1d_340 (Conv1D)             (None, 41, 1)        1001        embedding_39[0][0]               \n",
      "__________________________________________________________________________________________________\n",
      "conv1d_341 (Conv1D)             (None, 41, 1)        1001        embedding_39[0][0]               \n",
      "__________________________________________________________________________________________________\n",
      "conv1d_342 (Conv1D)             (None, 41, 1)        1001        embedding_39[0][0]               \n",
      "__________________________________________________________________________________________________\n",
      "conv1d_343 (Conv1D)             (None, 41, 1)        1001        embedding_39[0][0]               \n",
      "__________________________________________________________________________________________________\n",
      "conv1d_344 (Conv1D)             (None, 41, 1)        1001        embedding_39[0][0]               \n",
      "__________________________________________________________________________________________________\n",
      "conv1d_345 (Conv1D)             (None, 41, 1)        1001        embedding_39[0][0]               \n",
      "__________________________________________________________________________________________________\n",
      "conv1d_346 (Conv1D)             (None, 41, 1)        1001        embedding_39[0][0]               \n",
      "__________________________________________________________________________________________________\n",
      "global_max_pooling1d_253 (Globa (None, 1)            0           conv1d_307[0][0]                 \n",
      "__________________________________________________________________________________________________\n",
      "global_max_pooling1d_254 (Globa (None, 1)            0           conv1d_308[0][0]                 \n",
      "__________________________________________________________________________________________________\n",
      "global_max_pooling1d_255 (Globa (None, 1)            0           conv1d_309[0][0]                 \n",
      "__________________________________________________________________________________________________\n",
      "global_max_pooling1d_256 (Globa (None, 1)            0           conv1d_310[0][0]                 \n",
      "__________________________________________________________________________________________________\n",
      "global_max_pooling1d_257 (Globa (None, 1)            0           conv1d_311[0][0]                 \n",
      "__________________________________________________________________________________________________\n",
      "global_max_pooling1d_258 (Globa (None, 1)            0           conv1d_312[0][0]                 \n",
      "__________________________________________________________________________________________________\n",
      "global_max_pooling1d_259 (Globa (None, 1)            0           conv1d_313[0][0]                 \n",
      "__________________________________________________________________________________________________\n",
      "global_max_pooling1d_260 (Globa (None, 1)            0           conv1d_314[0][0]                 \n",
      "__________________________________________________________________________________________________\n",
      "global_max_pooling1d_261 (Globa (None, 1)            0           conv1d_315[0][0]                 \n",
      "__________________________________________________________________________________________________\n",
      "global_max_pooling1d_262 (Globa (None, 1)            0           conv1d_316[0][0]                 \n",
      "__________________________________________________________________________________________________\n",
      "global_max_pooling1d_263 (Globa (None, 1)            0           conv1d_317[0][0]                 \n",
      "__________________________________________________________________________________________________\n",
      "global_max_pooling1d_264 (Globa (None, 1)            0           conv1d_318[0][0]                 \n",
      "__________________________________________________________________________________________________\n",
      "global_max_pooling1d_265 (Globa (None, 1)            0           conv1d_319[0][0]                 \n",
      "__________________________________________________________________________________________________\n",
      "global_max_pooling1d_266 (Globa (None, 1)            0           conv1d_320[0][0]                 \n",
      "__________________________________________________________________________________________________\n",
      "global_max_pooling1d_267 (Globa (None, 1)            0           conv1d_321[0][0]                 \n",
      "__________________________________________________________________________________________________\n",
      "global_max_pooling1d_268 (Globa (None, 1)            0           conv1d_322[0][0]                 \n",
      "__________________________________________________________________________________________________\n",
      "global_max_pooling1d_269 (Globa (None, 1)            0           conv1d_323[0][0]                 \n",
      "__________________________________________________________________________________________________\n",
      "global_max_pooling1d_270 (Globa (None, 1)            0           conv1d_324[0][0]                 \n",
      "__________________________________________________________________________________________________\n",
      "global_max_pooling1d_271 (Globa (None, 1)            0           conv1d_325[0][0]                 \n",
      "__________________________________________________________________________________________________\n",
      "global_max_pooling1d_272 (Globa (None, 1)            0           conv1d_326[0][0]                 \n",
      "__________________________________________________________________________________________________\n",
      "global_max_pooling1d_273 (Globa (None, 1)            0           conv1d_327[0][0]                 \n",
      "__________________________________________________________________________________________________\n",
      "global_max_pooling1d_274 (Globa (None, 1)            0           conv1d_328[0][0]                 \n",
      "__________________________________________________________________________________________________\n",
      "global_max_pooling1d_275 (Globa (None, 1)            0           conv1d_329[0][0]                 \n",
      "__________________________________________________________________________________________________\n",
      "global_max_pooling1d_276 (Globa (None, 1)            0           conv1d_330[0][0]                 \n",
      "__________________________________________________________________________________________________\n",
      "global_max_pooling1d_277 (Globa (None, 1)            0           conv1d_331[0][0]                 \n",
      "__________________________________________________________________________________________________\n",
      "global_max_pooling1d_278 (Globa (None, 1)            0           conv1d_332[0][0]                 \n",
      "__________________________________________________________________________________________________\n",
      "global_max_pooling1d_279 (Globa (None, 1)            0           conv1d_333[0][0]                 \n",
      "__________________________________________________________________________________________________\n",
      "global_max_pooling1d_280 (Globa (None, 1)            0           conv1d_334[0][0]                 \n",
      "__________________________________________________________________________________________________\n",
      "global_max_pooling1d_281 (Globa (None, 1)            0           conv1d_335[0][0]                 \n",
      "__________________________________________________________________________________________________\n",
      "global_max_pooling1d_282 (Globa (None, 1)            0           conv1d_336[0][0]                 \n",
      "__________________________________________________________________________________________________\n",
      "global_max_pooling1d_283 (Globa (None, 1)            0           conv1d_337[0][0]                 \n",
      "__________________________________________________________________________________________________\n",
      "global_max_pooling1d_284 (Globa (None, 1)            0           conv1d_338[0][0]                 \n",
      "__________________________________________________________________________________________________\n",
      "global_max_pooling1d_285 (Globa (None, 1)            0           conv1d_339[0][0]                 \n",
      "__________________________________________________________________________________________________\n",
      "global_max_pooling1d_286 (Globa (None, 1)            0           conv1d_340[0][0]                 \n",
      "__________________________________________________________________________________________________\n",
      "global_max_pooling1d_287 (Globa (None, 1)            0           conv1d_341[0][0]                 \n",
      "__________________________________________________________________________________________________\n",
      "global_max_pooling1d_288 (Globa (None, 1)            0           conv1d_342[0][0]                 \n",
      "__________________________________________________________________________________________________\n",
      "global_max_pooling1d_289 (Globa (None, 1)            0           conv1d_343[0][0]                 \n",
      "__________________________________________________________________________________________________\n",
      "global_max_pooling1d_290 (Globa (None, 1)            0           conv1d_344[0][0]                 \n",
      "__________________________________________________________________________________________________\n",
      "global_max_pooling1d_291 (Globa (None, 1)            0           conv1d_345[0][0]                 \n",
      "__________________________________________________________________________________________________\n",
      "global_max_pooling1d_292 (Globa (None, 1)            0           conv1d_346[0][0]                 \n",
      "__________________________________________________________________________________________________\n",
      "merge_17 (Merge)                (None, 40)           0           global_max_pooling1d_253[0][0]   \n",
      "                                                                 global_max_pooling1d_254[0][0]   \n",
      "                                                                 global_max_pooling1d_255[0][0]   \n",
      "                                                                 global_max_pooling1d_256[0][0]   \n",
      "                                                                 global_max_pooling1d_257[0][0]   \n",
      "                                                                 global_max_pooling1d_258[0][0]   \n",
      "                                                                 global_max_pooling1d_259[0][0]   \n",
      "                                                                 global_max_pooling1d_260[0][0]   \n",
      "                                                                 global_max_pooling1d_261[0][0]   \n",
      "                                                                 global_max_pooling1d_262[0][0]   \n",
      "                                                                 global_max_pooling1d_263[0][0]   \n",
      "                                                                 global_max_pooling1d_264[0][0]   \n",
      "                                                                 global_max_pooling1d_265[0][0]   \n",
      "                                                                 global_max_pooling1d_266[0][0]   \n",
      "                                                                 global_max_pooling1d_267[0][0]   \n",
      "                                                                 global_max_pooling1d_268[0][0]   \n",
      "                                                                 global_max_pooling1d_269[0][0]   \n",
      "                                                                 global_max_pooling1d_270[0][0]   \n",
      "                                                                 global_max_pooling1d_271[0][0]   \n",
      "                                                                 global_max_pooling1d_272[0][0]   \n",
      "                                                                 global_max_pooling1d_273[0][0]   \n",
      "                                                                 global_max_pooling1d_274[0][0]   \n",
      "                                                                 global_max_pooling1d_275[0][0]   \n",
      "                                                                 global_max_pooling1d_276[0][0]   \n",
      "                                                                 global_max_pooling1d_277[0][0]   \n",
      "                                                                 global_max_pooling1d_278[0][0]   \n",
      "                                                                 global_max_pooling1d_279[0][0]   \n",
      "                                                                 global_max_pooling1d_280[0][0]   \n",
      "                                                                 global_max_pooling1d_281[0][0]   \n",
      "                                                                 global_max_pooling1d_282[0][0]   \n",
      "                                                                 global_max_pooling1d_283[0][0]   \n",
      "                                                                 global_max_pooling1d_284[0][0]   \n",
      "                                                                 global_max_pooling1d_285[0][0]   \n",
      "                                                                 global_max_pooling1d_286[0][0]   \n",
      "                                                                 global_max_pooling1d_287[0][0]   \n",
      "                                                                 global_max_pooling1d_288[0][0]   \n",
      "                                                                 global_max_pooling1d_289[0][0]   \n",
      "                                                                 global_max_pooling1d_290[0][0]   \n",
      "                                                                 global_max_pooling1d_291[0][0]   \n",
      "                                                                 global_max_pooling1d_292[0][0]   \n",
      "__________________________________________________________________________________________________\n",
      "dropout_33 (Dropout)            (None, 40)           0           merge_17[0][0]                   \n",
      "__________________________________________________________________________________________________\n",
      "dense_33 (Dense)                (None, 128)          5248        dropout_33[0][0]                 \n",
      "__________________________________________________________________________________________________\n",
      "dropout_34 (Dropout)            (None, 128)          0           dense_33[0][0]                   \n",
      "__________________________________________________________________________________________________\n",
      "dense_34 (Dense)                (None, 3)            387         dropout_34[0][0]                 \n",
      "==================================================================================================\n",
      "Total params: 2,409,075\n",
      "Trainable params: 29,675\n",
      "Non-trainable params: 2,379,400\n",
      "__________________________________________________________________________________________________\n"
     ]
    },
    {
     "name": "stderr",
     "output_type": "stream",
     "text": [
      "/home/tutelaris/anaconda3/lib/python3.6/site-packages/ipykernel_launcher.py:15: UserWarning: The `Merge` layer is deprecated and will be removed after 08/2017. Use instead layers from `keras.layers.merge`, e.g. `add`, `concatenate`, etc.\n",
      "  from ipykernel import kernelapp as app\n"
     ]
    }
   ],
   "source": [
    "mycnn = MyConvNet(np.array(embedding_matrix), len(train_word_index)+1, MAX_SEQUENCE_LENGTH, EMBEDDING_DIM)"
   ]
  },
  {
   "cell_type": "code",
   "execution_count": 294,
   "metadata": {},
   "outputs": [
    {
     "name": "stdout",
     "output_type": "stream",
     "text": [
      "Train on 16231 samples, validate on 1804 samples\n",
      "Epoch 1/10\n",
      "16231/16231 [==============================] - 121s 7ms/step - loss: 0.4639 - acc: 0.7956 - val_loss: 0.3834 - val_acc: 0.8416\n",
      "Epoch 2/10\n",
      "16231/16231 [==============================] - 100s 6ms/step - loss: 0.4356 - acc: 0.8059 - val_loss: 0.3902 - val_acc: 0.8424\n",
      "Epoch 3/10\n",
      "16231/16231 [==============================] - 99s 6ms/step - loss: 0.4317 - acc: 0.8070 - val_loss: 0.3787 - val_acc: 0.8398\n",
      "Epoch 4/10\n",
      "16231/16231 [==============================] - 100s 6ms/step - loss: 0.4278 - acc: 0.8073 - val_loss: 0.3752 - val_acc: 0.8387\n",
      "Epoch 5/10\n",
      "16231/16231 [==============================] - 101s 6ms/step - loss: 0.4268 - acc: 0.8070 - val_loss: 0.3833 - val_acc: 0.8435\n",
      "Epoch 00005: early stopping\n"
     ]
    }
   ],
   "source": [
    "hist = mycnn.fit(train_features_cnn, train_labels_cnn, epochs=10, callbacks=callbacks_list, validation_split=0.1, shuffle=True, batch_size=32)"
   ]
  },
  {
   "cell_type": "code",
   "execution_count": 295,
   "metadata": {},
   "outputs": [
    {
     "name": "stdout",
     "output_type": "stream",
     "text": [
      "5560/5560 [==============================] - 17s 3ms/step\n"
     ]
    },
    {
     "data": {
      "text/plain": [
       "[0.5140216706896857, 0.744964040183335]"
      ]
     },
     "execution_count": 295,
     "metadata": {},
     "output_type": "execute_result"
    }
   ],
   "source": [
    "mycnn.evaluate(test_features_cnn, test_labels_cnn)"
   ]
  }
 ],
 "metadata": {
  "kernelspec": {
   "display_name": "Python 3",
   "language": "python",
   "name": "python3"
  },
  "language_info": {
   "codemirror_mode": {
    "name": "ipython",
    "version": 3
   },
   "file_extension": ".py",
   "mimetype": "text/x-python",
   "name": "python",
   "nbconvert_exporter": "python",
   "pygments_lexer": "ipython3",
   "version": "3.6.4"
  }
 },
 "nbformat": 4,
 "nbformat_minor": 2
}
